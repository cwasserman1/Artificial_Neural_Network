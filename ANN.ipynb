{
 "cells": [
  {
   "cell_type": "code",
   "execution_count": 12,
   "metadata": {},
   "outputs": [],
   "source": [
    "import numpy as np"
   ]
  },
  {
   "cell_type": "code",
   "execution_count": 13,
   "metadata": {},
   "outputs": [],
   "source": [
    "class dense_layer:\n",
    "    def __init__(self,neurons,inputs):\n",
    "        self.weights = np.random.randn(neurons,inputs)\n",
    "        self.bias = np.random.randn(neurons,1)\n",
    "    def forward(self,X):\n",
    "        self.out = np.dot(self.weights,X)+self.bias"
   ]
  },
  {
   "cell_type": "code",
   "execution_count": 14,
   "metadata": {},
   "outputs": [],
   "source": [
    "X = np.array([1,2]).reshape(2,1)\n",
    "y = np.array([2,2]).reshape(2,1)"
   ]
  },
  {
   "cell_type": "code",
   "execution_count": 15,
   "metadata": {},
   "outputs": [],
   "source": [
    "layer1 = dense_layer(4,2)\n",
    "layer2 = dense_layer(2,4)"
   ]
  },
  {
   "cell_type": "code",
   "execution_count": 16,
   "metadata": {},
   "outputs": [],
   "source": [
    "def ReLU(inputs):\n",
    "    return np.maximum(0,inputs)\n",
    "def RelU_derivative(inputs):\n",
    "    temp = inputs[:]\n",
    "    for i in range(len(temp)):\n",
    "        if temp[i]<=0:\n",
    "            temp[i] = 0\n",
    "        else:\n",
    "            temp[i] = 1\n",
    "    return temp\n",
    "def SoftMax(inputs):# SoftMax output layer activation function\n",
    "    return np.exp(inputs)/(np.sum(np.exp(inputs),axis = 0,keepdims = True))\n",
    "def Sigmoid(inputs):\n",
    "    return 1/(1+np.exp(-inputs))\n",
    "def Sigmoid_derivative(inputs):\n",
    "    return np.exp(-inputs)/((1+np.exp(-inputs))**2)"
   ]
  },
  {
   "cell_type": "code",
   "execution_count": 17,
   "metadata": {},
   "outputs": [],
   "source": [
    "def forward_propagation(X,layer1,layer2):\n",
    "    layer1.forward(X)\n",
    "    Z1 = layer1.out\n",
    "    A1 = ReLU(Z1)\n",
    "    layer2.forward(A1)\n",
    "    Z2 = layer2.out\n",
    "    A2 = Sigmoid(Z2)\n",
    "    return A1,A2,Z1,Z2"
   ]
  },
  {
   "cell_type": "code",
   "execution_count": 18,
   "metadata": {},
   "outputs": [],
   "source": [
    "def back_propagation(A1,A2,Z1,y):\n",
    "    m = y.size\n",
    "    dZ2 = A2-y\n",
    "    dW2 = (1/m)*np.dot(dZ2,A1.T)\n",
    "    db2 = (1/m) * np.sum(dZ2,axis = 1,keepdims=True)\n",
    "    dZ1 = np.dot(layer2.weights.T,dZ2)*Sigmoid_derivative(Z1) \n",
    "    dW1 = (1/m) * np.dot(dZ1,X.T)\n",
    "    db1 = (1/m) * np.sum(dZ1,axis = 1,keepdims = True)\n",
    "    return dW1,dW2,db1,db2"
   ]
  },
  {
   "cell_type": "code",
   "execution_count": 19,
   "metadata": {},
   "outputs": [],
   "source": [
    "def gradient_descent(X,y,alpha,iterations,layer1,layer2):\n",
    "    \n",
    "    \n",
    "    for i in range(iterations):\n",
    "        \n",
    "        A1,A2,Z1,Z2 = forward_propagation(X,layer1,layer2) #Computes the output of the network\n",
    "        dW1,dW2,db1,db2 = back_propagation(A1,A2,Z1,y) #Computes partial derivative terms\n",
    "        \n",
    "        #Updates weights and biases\n",
    "        layer1.weights = layer1.weights - alpha * dW1 \n",
    "        layer1.bias = layer1.bias - alpha * db1\n",
    "        layer2.weights = layer2.weights - alpha * dW2\n",
    "        layer2.bias = layer2.bias - alpha * db2"
   ]
  },
  {
   "cell_type": "code",
   "execution_count": 20,
   "metadata": {},
   "outputs": [],
   "source": [
    "gradient_descent(X,y,.01,30,layer1,layer2)"
   ]
  }
 ],
 "metadata": {
  "kernelspec": {
   "display_name": "Python 3",
   "language": "python",
   "name": "python3"
  },
  "language_info": {
   "codemirror_mode": {
    "name": "ipython",
    "version": 3
   },
   "file_extension": ".py",
   "mimetype": "text/x-python",
   "name": "python",
   "nbconvert_exporter": "python",
   "pygments_lexer": "ipython3",
   "version": "3.8.3"
  }
 },
 "nbformat": 4,
 "nbformat_minor": 4
}
